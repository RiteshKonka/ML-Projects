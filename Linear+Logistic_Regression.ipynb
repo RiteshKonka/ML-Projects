{
  "nbformat": 4,
  "nbformat_minor": 0,
  "metadata": {
    "colab": {
      "provenance": []
    },
    "kernelspec": {
      "name": "python3",
      "display_name": "Python 3"
    },
    "language_info": {
      "name": "python"
    }
  },
  "cells": [
    {
      "cell_type": "code",
      "execution_count": null,
      "metadata": {
        "id": "2H3jyPlPK_UP",
        "colab": {
          "base_uri": "https://localhost:8080/"
        },
        "outputId": "2bb9d7d9-91aa-4cff-cc2d-a1646364b5a2"
      },
      "outputs": [
        {
          "output_type": "stream",
          "name": "stdout",
          "text": [
            "Drive already mounted at /content/gdrive; to attempt to forcibly remount, call drive.mount(\"/content/gdrive\", force_remount=True).\n"
          ]
        }
      ],
      "source": [
        "from google.colab import drive\n",
        "drive.mount(\"/content/gdrive\")"
      ]
    },
    {
      "cell_type": "code",
      "source": [
        "import numpy as np\n",
        "import pandas as pd\n",
        "import matplotlib.pyplot as plt\n",
        "import seaborn as sns\n",
        "from sklearn.model_selection import train_test_split\n",
        "from sklearn.linear_model import LinearRegression,LogisticRegression\n",
        "from sklearn import metrics"
      ],
      "metadata": {
        "id": "-xz191Z0RA8n"
      },
      "execution_count": null,
      "outputs": []
    },
    {
      "cell_type": "markdown",
      "source": [
        "#LINEAR REGRESSION\n"
      ],
      "metadata": {
        "id": "MONVLNIpRGA2"
      }
    },
    {
      "cell_type": "code",
      "source": [
        "df=pd.read_csv(\"/content/gdrive/MyDrive/Antariksh/bottle.csv\")\n",
        "df"
      ],
      "metadata": {
        "colab": {
          "base_uri": "https://localhost:8080/",
          "height": 693
        },
        "id": "G8I9GJhtRcB8",
        "outputId": "330d62c8-c8f0-4f86-a0a6-4e5ea1eafc34"
      },
      "execution_count": null,
      "outputs": [
        {
          "output_type": "stream",
          "name": "stderr",
          "text": [
            "/usr/local/lib/python3.7/dist-packages/IPython/core/interactiveshell.py:3326: DtypeWarning: Columns (47,73) have mixed types.Specify dtype option on import or set low_memory=False.\n",
            "  exec(code_obj, self.user_global_ns, self.user_ns)\n"
          ]
        },
        {
          "output_type": "execute_result",
          "data": {
            "text/plain": [
              "        Cst_Cnt  Btl_Cnt       Sta_ID                                Depth_ID  \\\n",
              "0             1        1  054.0 056.0  19-4903CR-HY-060-0930-05400560-0000A-3   \n",
              "1             1        2  054.0 056.0  19-4903CR-HY-060-0930-05400560-0008A-3   \n",
              "2             1        3  054.0 056.0  19-4903CR-HY-060-0930-05400560-0010A-7   \n",
              "3             1        4  054.0 056.0  19-4903CR-HY-060-0930-05400560-0019A-3   \n",
              "4             1        5  054.0 056.0  19-4903CR-HY-060-0930-05400560-0020A-7   \n",
              "...         ...      ...          ...                                     ...   \n",
              "864858    34404   864859  093.4 026.4  20-1611SR-MX-310-2239-09340264-0000A-7   \n",
              "864859    34404   864860  093.4 026.4  20-1611SR-MX-310-2239-09340264-0002A-3   \n",
              "864860    34404   864861  093.4 026.4  20-1611SR-MX-310-2239-09340264-0005A-3   \n",
              "864861    34404   864862  093.4 026.4  20-1611SR-MX-310-2239-09340264-0010A-3   \n",
              "864862    34404   864863  093.4 026.4  20-1611SR-MX-310-2239-09340264-0015A-3   \n",
              "\n",
              "        Depthm  T_degC   Salnty  O2ml_L    STheta   O2Sat  ...  R_PHAEO  \\\n",
              "0            0  10.500  33.4400     NaN  25.64900     NaN  ...      NaN   \n",
              "1            8  10.460  33.4400     NaN  25.65600     NaN  ...      NaN   \n",
              "2           10  10.460  33.4370     NaN  25.65400     NaN  ...      NaN   \n",
              "3           19  10.450  33.4200     NaN  25.64300     NaN  ...      NaN   \n",
              "4           20  10.450  33.4210     NaN  25.64300     NaN  ...      NaN   \n",
              "...        ...     ...      ...     ...       ...     ...  ...      ...   \n",
              "864858       0  18.744  33.4083   5.805  23.87055  108.74  ...     0.18   \n",
              "864859       2  18.744  33.4083   5.805  23.87072  108.74  ...     0.18   \n",
              "864860       5  18.692  33.4150   5.796  23.88911  108.46  ...     0.18   \n",
              "864861      10  18.161  33.4062   5.816  24.01426  107.74  ...     0.31   \n",
              "864862      15  17.533  33.3880   5.774  24.15297  105.66  ...     0.61   \n",
              "\n",
              "        R_PRES  R_SAMP  DIC1  DIC2  TA1  TA2  pH2  pH1  DIC Quality Comment  \n",
              "0            0     NaN   NaN   NaN  NaN  NaN  NaN  NaN                  NaN  \n",
              "1            8     NaN   NaN   NaN  NaN  NaN  NaN  NaN                  NaN  \n",
              "2           10     NaN   NaN   NaN  NaN  NaN  NaN  NaN                  NaN  \n",
              "3           19     NaN   NaN   NaN  NaN  NaN  NaN  NaN                  NaN  \n",
              "4           20     NaN   NaN   NaN  NaN  NaN  NaN  NaN                  NaN  \n",
              "...        ...     ...   ...   ...  ...  ...  ...  ...                  ...  \n",
              "864858       0     NaN   NaN   NaN  NaN  NaN  NaN  NaN                  NaN  \n",
              "864859       2     4.0   NaN   NaN  NaN  NaN  NaN  NaN                  NaN  \n",
              "864860       5     3.0   NaN   NaN  NaN  NaN  NaN  NaN                  NaN  \n",
              "864861      10     2.0   NaN   NaN  NaN  NaN  NaN  NaN                  NaN  \n",
              "864862      15     1.0   NaN   NaN  NaN  NaN  NaN  NaN                  NaN  \n",
              "\n",
              "[864863 rows x 74 columns]"
            ],
            "text/html": [
              "\n",
              "  <div id=\"df-a5312c13-4081-4037-ab4b-080d23e630bc\">\n",
              "    <div class=\"colab-df-container\">\n",
              "      <div>\n",
              "<style scoped>\n",
              "    .dataframe tbody tr th:only-of-type {\n",
              "        vertical-align: middle;\n",
              "    }\n",
              "\n",
              "    .dataframe tbody tr th {\n",
              "        vertical-align: top;\n",
              "    }\n",
              "\n",
              "    .dataframe thead th {\n",
              "        text-align: right;\n",
              "    }\n",
              "</style>\n",
              "<table border=\"1\" class=\"dataframe\">\n",
              "  <thead>\n",
              "    <tr style=\"text-align: right;\">\n",
              "      <th></th>\n",
              "      <th>Cst_Cnt</th>\n",
              "      <th>Btl_Cnt</th>\n",
              "      <th>Sta_ID</th>\n",
              "      <th>Depth_ID</th>\n",
              "      <th>Depthm</th>\n",
              "      <th>T_degC</th>\n",
              "      <th>Salnty</th>\n",
              "      <th>O2ml_L</th>\n",
              "      <th>STheta</th>\n",
              "      <th>O2Sat</th>\n",
              "      <th>...</th>\n",
              "      <th>R_PHAEO</th>\n",
              "      <th>R_PRES</th>\n",
              "      <th>R_SAMP</th>\n",
              "      <th>DIC1</th>\n",
              "      <th>DIC2</th>\n",
              "      <th>TA1</th>\n",
              "      <th>TA2</th>\n",
              "      <th>pH2</th>\n",
              "      <th>pH1</th>\n",
              "      <th>DIC Quality Comment</th>\n",
              "    </tr>\n",
              "  </thead>\n",
              "  <tbody>\n",
              "    <tr>\n",
              "      <th>0</th>\n",
              "      <td>1</td>\n",
              "      <td>1</td>\n",
              "      <td>054.0 056.0</td>\n",
              "      <td>19-4903CR-HY-060-0930-05400560-0000A-3</td>\n",
              "      <td>0</td>\n",
              "      <td>10.500</td>\n",
              "      <td>33.4400</td>\n",
              "      <td>NaN</td>\n",
              "      <td>25.64900</td>\n",
              "      <td>NaN</td>\n",
              "      <td>...</td>\n",
              "      <td>NaN</td>\n",
              "      <td>0</td>\n",
              "      <td>NaN</td>\n",
              "      <td>NaN</td>\n",
              "      <td>NaN</td>\n",
              "      <td>NaN</td>\n",
              "      <td>NaN</td>\n",
              "      <td>NaN</td>\n",
              "      <td>NaN</td>\n",
              "      <td>NaN</td>\n",
              "    </tr>\n",
              "    <tr>\n",
              "      <th>1</th>\n",
              "      <td>1</td>\n",
              "      <td>2</td>\n",
              "      <td>054.0 056.0</td>\n",
              "      <td>19-4903CR-HY-060-0930-05400560-0008A-3</td>\n",
              "      <td>8</td>\n",
              "      <td>10.460</td>\n",
              "      <td>33.4400</td>\n",
              "      <td>NaN</td>\n",
              "      <td>25.65600</td>\n",
              "      <td>NaN</td>\n",
              "      <td>...</td>\n",
              "      <td>NaN</td>\n",
              "      <td>8</td>\n",
              "      <td>NaN</td>\n",
              "      <td>NaN</td>\n",
              "      <td>NaN</td>\n",
              "      <td>NaN</td>\n",
              "      <td>NaN</td>\n",
              "      <td>NaN</td>\n",
              "      <td>NaN</td>\n",
              "      <td>NaN</td>\n",
              "    </tr>\n",
              "    <tr>\n",
              "      <th>2</th>\n",
              "      <td>1</td>\n",
              "      <td>3</td>\n",
              "      <td>054.0 056.0</td>\n",
              "      <td>19-4903CR-HY-060-0930-05400560-0010A-7</td>\n",
              "      <td>10</td>\n",
              "      <td>10.460</td>\n",
              "      <td>33.4370</td>\n",
              "      <td>NaN</td>\n",
              "      <td>25.65400</td>\n",
              "      <td>NaN</td>\n",
              "      <td>...</td>\n",
              "      <td>NaN</td>\n",
              "      <td>10</td>\n",
              "      <td>NaN</td>\n",
              "      <td>NaN</td>\n",
              "      <td>NaN</td>\n",
              "      <td>NaN</td>\n",
              "      <td>NaN</td>\n",
              "      <td>NaN</td>\n",
              "      <td>NaN</td>\n",
              "      <td>NaN</td>\n",
              "    </tr>\n",
              "    <tr>\n",
              "      <th>3</th>\n",
              "      <td>1</td>\n",
              "      <td>4</td>\n",
              "      <td>054.0 056.0</td>\n",
              "      <td>19-4903CR-HY-060-0930-05400560-0019A-3</td>\n",
              "      <td>19</td>\n",
              "      <td>10.450</td>\n",
              "      <td>33.4200</td>\n",
              "      <td>NaN</td>\n",
              "      <td>25.64300</td>\n",
              "      <td>NaN</td>\n",
              "      <td>...</td>\n",
              "      <td>NaN</td>\n",
              "      <td>19</td>\n",
              "      <td>NaN</td>\n",
              "      <td>NaN</td>\n",
              "      <td>NaN</td>\n",
              "      <td>NaN</td>\n",
              "      <td>NaN</td>\n",
              "      <td>NaN</td>\n",
              "      <td>NaN</td>\n",
              "      <td>NaN</td>\n",
              "    </tr>\n",
              "    <tr>\n",
              "      <th>4</th>\n",
              "      <td>1</td>\n",
              "      <td>5</td>\n",
              "      <td>054.0 056.0</td>\n",
              "      <td>19-4903CR-HY-060-0930-05400560-0020A-7</td>\n",
              "      <td>20</td>\n",
              "      <td>10.450</td>\n",
              "      <td>33.4210</td>\n",
              "      <td>NaN</td>\n",
              "      <td>25.64300</td>\n",
              "      <td>NaN</td>\n",
              "      <td>...</td>\n",
              "      <td>NaN</td>\n",
              "      <td>20</td>\n",
              "      <td>NaN</td>\n",
              "      <td>NaN</td>\n",
              "      <td>NaN</td>\n",
              "      <td>NaN</td>\n",
              "      <td>NaN</td>\n",
              "      <td>NaN</td>\n",
              "      <td>NaN</td>\n",
              "      <td>NaN</td>\n",
              "    </tr>\n",
              "    <tr>\n",
              "      <th>...</th>\n",
              "      <td>...</td>\n",
              "      <td>...</td>\n",
              "      <td>...</td>\n",
              "      <td>...</td>\n",
              "      <td>...</td>\n",
              "      <td>...</td>\n",
              "      <td>...</td>\n",
              "      <td>...</td>\n",
              "      <td>...</td>\n",
              "      <td>...</td>\n",
              "      <td>...</td>\n",
              "      <td>...</td>\n",
              "      <td>...</td>\n",
              "      <td>...</td>\n",
              "      <td>...</td>\n",
              "      <td>...</td>\n",
              "      <td>...</td>\n",
              "      <td>...</td>\n",
              "      <td>...</td>\n",
              "      <td>...</td>\n",
              "      <td>...</td>\n",
              "    </tr>\n",
              "    <tr>\n",
              "      <th>864858</th>\n",
              "      <td>34404</td>\n",
              "      <td>864859</td>\n",
              "      <td>093.4 026.4</td>\n",
              "      <td>20-1611SR-MX-310-2239-09340264-0000A-7</td>\n",
              "      <td>0</td>\n",
              "      <td>18.744</td>\n",
              "      <td>33.4083</td>\n",
              "      <td>5.805</td>\n",
              "      <td>23.87055</td>\n",
              "      <td>108.74</td>\n",
              "      <td>...</td>\n",
              "      <td>0.18</td>\n",
              "      <td>0</td>\n",
              "      <td>NaN</td>\n",
              "      <td>NaN</td>\n",
              "      <td>NaN</td>\n",
              "      <td>NaN</td>\n",
              "      <td>NaN</td>\n",
              "      <td>NaN</td>\n",
              "      <td>NaN</td>\n",
              "      <td>NaN</td>\n",
              "    </tr>\n",
              "    <tr>\n",
              "      <th>864859</th>\n",
              "      <td>34404</td>\n",
              "      <td>864860</td>\n",
              "      <td>093.4 026.4</td>\n",
              "      <td>20-1611SR-MX-310-2239-09340264-0002A-3</td>\n",
              "      <td>2</td>\n",
              "      <td>18.744</td>\n",
              "      <td>33.4083</td>\n",
              "      <td>5.805</td>\n",
              "      <td>23.87072</td>\n",
              "      <td>108.74</td>\n",
              "      <td>...</td>\n",
              "      <td>0.18</td>\n",
              "      <td>2</td>\n",
              "      <td>4.0</td>\n",
              "      <td>NaN</td>\n",
              "      <td>NaN</td>\n",
              "      <td>NaN</td>\n",
              "      <td>NaN</td>\n",
              "      <td>NaN</td>\n",
              "      <td>NaN</td>\n",
              "      <td>NaN</td>\n",
              "    </tr>\n",
              "    <tr>\n",
              "      <th>864860</th>\n",
              "      <td>34404</td>\n",
              "      <td>864861</td>\n",
              "      <td>093.4 026.4</td>\n",
              "      <td>20-1611SR-MX-310-2239-09340264-0005A-3</td>\n",
              "      <td>5</td>\n",
              "      <td>18.692</td>\n",
              "      <td>33.4150</td>\n",
              "      <td>5.796</td>\n",
              "      <td>23.88911</td>\n",
              "      <td>108.46</td>\n",
              "      <td>...</td>\n",
              "      <td>0.18</td>\n",
              "      <td>5</td>\n",
              "      <td>3.0</td>\n",
              "      <td>NaN</td>\n",
              "      <td>NaN</td>\n",
              "      <td>NaN</td>\n",
              "      <td>NaN</td>\n",
              "      <td>NaN</td>\n",
              "      <td>NaN</td>\n",
              "      <td>NaN</td>\n",
              "    </tr>\n",
              "    <tr>\n",
              "      <th>864861</th>\n",
              "      <td>34404</td>\n",
              "      <td>864862</td>\n",
              "      <td>093.4 026.4</td>\n",
              "      <td>20-1611SR-MX-310-2239-09340264-0010A-3</td>\n",
              "      <td>10</td>\n",
              "      <td>18.161</td>\n",
              "      <td>33.4062</td>\n",
              "      <td>5.816</td>\n",
              "      <td>24.01426</td>\n",
              "      <td>107.74</td>\n",
              "      <td>...</td>\n",
              "      <td>0.31</td>\n",
              "      <td>10</td>\n",
              "      <td>2.0</td>\n",
              "      <td>NaN</td>\n",
              "      <td>NaN</td>\n",
              "      <td>NaN</td>\n",
              "      <td>NaN</td>\n",
              "      <td>NaN</td>\n",
              "      <td>NaN</td>\n",
              "      <td>NaN</td>\n",
              "    </tr>\n",
              "    <tr>\n",
              "      <th>864862</th>\n",
              "      <td>34404</td>\n",
              "      <td>864863</td>\n",
              "      <td>093.4 026.4</td>\n",
              "      <td>20-1611SR-MX-310-2239-09340264-0015A-3</td>\n",
              "      <td>15</td>\n",
              "      <td>17.533</td>\n",
              "      <td>33.3880</td>\n",
              "      <td>5.774</td>\n",
              "      <td>24.15297</td>\n",
              "      <td>105.66</td>\n",
              "      <td>...</td>\n",
              "      <td>0.61</td>\n",
              "      <td>15</td>\n",
              "      <td>1.0</td>\n",
              "      <td>NaN</td>\n",
              "      <td>NaN</td>\n",
              "      <td>NaN</td>\n",
              "      <td>NaN</td>\n",
              "      <td>NaN</td>\n",
              "      <td>NaN</td>\n",
              "      <td>NaN</td>\n",
              "    </tr>\n",
              "  </tbody>\n",
              "</table>\n",
              "<p>864863 rows × 74 columns</p>\n",
              "</div>\n",
              "      <button class=\"colab-df-convert\" onclick=\"convertToInteractive('df-a5312c13-4081-4037-ab4b-080d23e630bc')\"\n",
              "              title=\"Convert this dataframe to an interactive table.\"\n",
              "              style=\"display:none;\">\n",
              "        \n",
              "  <svg xmlns=\"http://www.w3.org/2000/svg\" height=\"24px\"viewBox=\"0 0 24 24\"\n",
              "       width=\"24px\">\n",
              "    <path d=\"M0 0h24v24H0V0z\" fill=\"none\"/>\n",
              "    <path d=\"M18.56 5.44l.94 2.06.94-2.06 2.06-.94-2.06-.94-.94-2.06-.94 2.06-2.06.94zm-11 1L8.5 8.5l.94-2.06 2.06-.94-2.06-.94L8.5 2.5l-.94 2.06-2.06.94zm10 10l.94 2.06.94-2.06 2.06-.94-2.06-.94-.94-2.06-.94 2.06-2.06.94z\"/><path d=\"M17.41 7.96l-1.37-1.37c-.4-.4-.92-.59-1.43-.59-.52 0-1.04.2-1.43.59L10.3 9.45l-7.72 7.72c-.78.78-.78 2.05 0 2.83L4 21.41c.39.39.9.59 1.41.59.51 0 1.02-.2 1.41-.59l7.78-7.78 2.81-2.81c.8-.78.8-2.07 0-2.86zM5.41 20L4 18.59l7.72-7.72 1.47 1.35L5.41 20z\"/>\n",
              "  </svg>\n",
              "      </button>\n",
              "      \n",
              "  <style>\n",
              "    .colab-df-container {\n",
              "      display:flex;\n",
              "      flex-wrap:wrap;\n",
              "      gap: 12px;\n",
              "    }\n",
              "\n",
              "    .colab-df-convert {\n",
              "      background-color: #E8F0FE;\n",
              "      border: none;\n",
              "      border-radius: 50%;\n",
              "      cursor: pointer;\n",
              "      display: none;\n",
              "      fill: #1967D2;\n",
              "      height: 32px;\n",
              "      padding: 0 0 0 0;\n",
              "      width: 32px;\n",
              "    }\n",
              "\n",
              "    .colab-df-convert:hover {\n",
              "      background-color: #E2EBFA;\n",
              "      box-shadow: 0px 1px 2px rgba(60, 64, 67, 0.3), 0px 1px 3px 1px rgba(60, 64, 67, 0.15);\n",
              "      fill: #174EA6;\n",
              "    }\n",
              "\n",
              "    [theme=dark] .colab-df-convert {\n",
              "      background-color: #3B4455;\n",
              "      fill: #D2E3FC;\n",
              "    }\n",
              "\n",
              "    [theme=dark] .colab-df-convert:hover {\n",
              "      background-color: #434B5C;\n",
              "      box-shadow: 0px 1px 3px 1px rgba(0, 0, 0, 0.15);\n",
              "      filter: drop-shadow(0px 1px 2px rgba(0, 0, 0, 0.3));\n",
              "      fill: #FFFFFF;\n",
              "    }\n",
              "  </style>\n",
              "\n",
              "      <script>\n",
              "        const buttonEl =\n",
              "          document.querySelector('#df-a5312c13-4081-4037-ab4b-080d23e630bc button.colab-df-convert');\n",
              "        buttonEl.style.display =\n",
              "          google.colab.kernel.accessAllowed ? 'block' : 'none';\n",
              "\n",
              "        async function convertToInteractive(key) {\n",
              "          const element = document.querySelector('#df-a5312c13-4081-4037-ab4b-080d23e630bc');\n",
              "          const dataTable =\n",
              "            await google.colab.kernel.invokeFunction('convertToInteractive',\n",
              "                                                     [key], {});\n",
              "          if (!dataTable) return;\n",
              "\n",
              "          const docLinkHtml = 'Like what you see? Visit the ' +\n",
              "            '<a target=\"_blank\" href=https://colab.research.google.com/notebooks/data_table.ipynb>data table notebook</a>'\n",
              "            + ' to learn more about interactive tables.';\n",
              "          element.innerHTML = '';\n",
              "          dataTable['output_type'] = 'display_data';\n",
              "          await google.colab.output.renderOutput(dataTable, element);\n",
              "          const docLink = document.createElement('div');\n",
              "          docLink.innerHTML = docLinkHtml;\n",
              "          element.appendChild(docLink);\n",
              "        }\n",
              "      </script>\n",
              "    </div>\n",
              "  </div>\n",
              "  "
            ]
          },
          "metadata": {},
          "execution_count": 57
        }
      ]
    },
    {
      "cell_type": "code",
      "source": [
        "df.info()"
      ],
      "metadata": {
        "colab": {
          "base_uri": "https://localhost:8080/"
        },
        "id": "NK0Sr71dRmCv",
        "outputId": "baf8b419-a44c-49c9-f967-a0ab0b91666d"
      },
      "execution_count": null,
      "outputs": [
        {
          "output_type": "stream",
          "name": "stdout",
          "text": [
            "<class 'pandas.core.frame.DataFrame'>\n",
            "RangeIndex: 864863 entries, 0 to 864862\n",
            "Data columns (total 74 columns):\n",
            " #   Column               Non-Null Count   Dtype  \n",
            "---  ------               --------------   -----  \n",
            " 0   Cst_Cnt              864863 non-null  int64  \n",
            " 1   Btl_Cnt              864863 non-null  int64  \n",
            " 2   Sta_ID               864863 non-null  object \n",
            " 3   Depth_ID             864863 non-null  object \n",
            " 4   Depthm               864863 non-null  int64  \n",
            " 5   T_degC               853900 non-null  float64\n",
            " 6   Salnty               817509 non-null  float64\n",
            " 7   O2ml_L               696201 non-null  float64\n",
            " 8   STheta               812174 non-null  float64\n",
            " 9   O2Sat                661274 non-null  float64\n",
            " 10  Oxy_µmol/Kg          661268 non-null  float64\n",
            " 11  BtlNum               118667 non-null  float64\n",
            " 12  RecInd               864863 non-null  int64  \n",
            " 13  T_prec               853900 non-null  float64\n",
            " 14  T_qual               23127 non-null   float64\n",
            " 15  S_prec               817509 non-null  float64\n",
            " 16  S_qual               74914 non-null   float64\n",
            " 17  P_qual               673755 non-null  float64\n",
            " 18  O_qual               184676 non-null  float64\n",
            " 19  SThtaq               65823 non-null   float64\n",
            " 20  O2Satq               217797 non-null  float64\n",
            " 21  ChlorA               225272 non-null  float64\n",
            " 22  Chlqua               639166 non-null  float64\n",
            " 23  Phaeop               225271 non-null  float64\n",
            " 24  Phaqua               639170 non-null  float64\n",
            " 25  PO4uM                413317 non-null  float64\n",
            " 26  PO4q                 451786 non-null  float64\n",
            " 27  SiO3uM               354091 non-null  float64\n",
            " 28  SiO3qu               510866 non-null  float64\n",
            " 29  NO2uM                337576 non-null  float64\n",
            " 30  NO2q                 529474 non-null  float64\n",
            " 31  NO3uM                337403 non-null  float64\n",
            " 32  NO3q                 529933 non-null  float64\n",
            " 33  NH3uM                64962 non-null   float64\n",
            " 34  NH3q                 808299 non-null  float64\n",
            " 35  C14As1               14432 non-null   float64\n",
            " 36  C14A1p               12760 non-null   float64\n",
            " 37  C14A1q               848605 non-null  float64\n",
            " 38  C14As2               14414 non-null   float64\n",
            " 39  C14A2p               12742 non-null   float64\n",
            " 40  C14A2q               848623 non-null  float64\n",
            " 41  DarkAs               22649 non-null   float64\n",
            " 42  DarkAp               20457 non-null   float64\n",
            " 43  DarkAq               840440 non-null  float64\n",
            " 44  MeanAs               22650 non-null   float64\n",
            " 45  MeanAp               20457 non-null   float64\n",
            " 46  MeanAq               840439 non-null  float64\n",
            " 47  IncTim               14437 non-null   object \n",
            " 48  LightP               18651 non-null   float64\n",
            " 49  R_Depth              864863 non-null  float64\n",
            " 50  R_TEMP               853900 non-null  float64\n",
            " 51  R_POTEMP             818816 non-null  float64\n",
            " 52  R_SALINITY           817509 non-null  float64\n",
            " 53  R_SIGMA              812007 non-null  float64\n",
            " 54  R_SVA                812092 non-null  float64\n",
            " 55  R_DYNHT              818206 non-null  float64\n",
            " 56  R_O2                 696201 non-null  float64\n",
            " 57  R_O2Sat              666448 non-null  float64\n",
            " 58  R_SIO3               354099 non-null  float64\n",
            " 59  R_PO4                413325 non-null  float64\n",
            " 60  R_NO3                337411 non-null  float64\n",
            " 61  R_NO2                337584 non-null  float64\n",
            " 62  R_NH4                64982 non-null   float64\n",
            " 63  R_CHLA               225276 non-null  float64\n",
            " 64  R_PHAEO              225275 non-null  float64\n",
            " 65  R_PRES               864863 non-null  int64  \n",
            " 66  R_SAMP               122006 non-null  float64\n",
            " 67  DIC1                 1999 non-null    float64\n",
            " 68  DIC2                 224 non-null     float64\n",
            " 69  TA1                  2084 non-null    float64\n",
            " 70  TA2                  234 non-null     float64\n",
            " 71  pH2                  10 non-null      float64\n",
            " 72  pH1                  84 non-null      float64\n",
            " 73  DIC Quality Comment  55 non-null      object \n",
            "dtypes: float64(65), int64(5), object(4)\n",
            "memory usage: 488.3+ MB\n"
          ]
        }
      ]
    },
    {
      "cell_type": "code",
      "source": [
        "df.drop(df.loc[:,df.isnull().sum()/len(df)*100.00 > 7],axis=1,inplace=True) #Dropping Columns with more than 10% Null values"
      ],
      "metadata": {
        "id": "-_p3Y-JuR3dv"
      },
      "execution_count": null,
      "outputs": []
    },
    {
      "cell_type": "code",
      "source": [
        "df.info()"
      ],
      "metadata": {
        "colab": {
          "base_uri": "https://localhost:8080/"
        },
        "id": "kc4SyrHxy2U_",
        "outputId": "0c9818a4-3432-40d7-ecb3-154c9611af1c"
      },
      "execution_count": null,
      "outputs": [
        {
          "output_type": "stream",
          "name": "stdout",
          "text": [
            "<class 'pandas.core.frame.DataFrame'>\n",
            "RangeIndex: 864863 entries, 0 to 864862\n",
            "Data columns (total 24 columns):\n",
            " #   Column      Non-Null Count   Dtype  \n",
            "---  ------      --------------   -----  \n",
            " 0   Cst_Cnt     864863 non-null  int64  \n",
            " 1   Btl_Cnt     864863 non-null  int64  \n",
            " 2   Sta_ID      864863 non-null  object \n",
            " 3   Depth_ID    864863 non-null  object \n",
            " 4   Depthm      864863 non-null  int64  \n",
            " 5   T_degC      853900 non-null  float64\n",
            " 6   Salnty      817509 non-null  float64\n",
            " 7   STheta      812174 non-null  float64\n",
            " 8   RecInd      864863 non-null  int64  \n",
            " 9   T_prec      853900 non-null  float64\n",
            " 10  S_prec      817509 non-null  float64\n",
            " 11  NH3q        808299 non-null  float64\n",
            " 12  C14A1q      848605 non-null  float64\n",
            " 13  C14A2q      848623 non-null  float64\n",
            " 14  DarkAq      840440 non-null  float64\n",
            " 15  MeanAq      840439 non-null  float64\n",
            " 16  R_Depth     864863 non-null  float64\n",
            " 17  R_TEMP      853900 non-null  float64\n",
            " 18  R_POTEMP    818816 non-null  float64\n",
            " 19  R_SALINITY  817509 non-null  float64\n",
            " 20  R_SIGMA     812007 non-null  float64\n",
            " 21  R_SVA       812092 non-null  float64\n",
            " 22  R_DYNHT     818206 non-null  float64\n",
            " 23  R_PRES      864863 non-null  int64  \n",
            "dtypes: float64(17), int64(5), object(2)\n",
            "memory usage: 158.4+ MB\n"
          ]
        }
      ]
    },
    {
      "cell_type": "code",
      "source": [
        "# WE WILL BE CHECKING FOR T vs SALINITY"
      ],
      "metadata": {
        "id": "DN8JoiU2zOk_"
      },
      "execution_count": null,
      "outputs": []
    },
    {
      "cell_type": "code",
      "source": [
        "def normalize(data_list):\n",
        "  X_new = []\n",
        "  X_max = max(data_list)\n",
        "  X_min = min(data_list)\n",
        "  for i in data_list:\n",
        "    X_new.append( (i - X_min)/(X_max - X_min) )\n",
        "  return X_new\n",
        "def standardize(data_list):\n",
        "  X_new=[]\n",
        "  for i in data_list:\n",
        "    X_new.append((i-data_list.mean())/data_list.std())\n",
        "  return X_new\n",
        "df[\"Salnty\"]=df[\"Salnty\"].fillna(df[\"Salnty\"].mean()) #Filling null values of Salnty with their mean\n",
        "df[\"T_degC\"]=df[\"T_degC\"].fillna(df[\"T_degC\"].mean()) #Filling null values of Temp with their mean\n",
        "# df[\"T_degC\"]=normalize(df[\"T_degC\"])\n",
        "# df[\"Salnty\"]=normalize(df[\"Salnty\"])\n",
        "df[\"Salnty\"]=(df[\"Salnty\"]-df[\"Salnty\"].mean())/df[\"Salnty\"].std()\n",
        "df[\"T_degC\"]=(df[\"T_degC\"]-df[\"T_degC\"].mean())/df[\"T_degC\"].std()\n",
        "df.info()"
      ],
      "metadata": {
        "colab": {
          "base_uri": "https://localhost:8080/"
        },
        "id": "w_ZSMoTflwy8",
        "outputId": "c1b3a4e7-61ff-4bca-ad9b-5da5d3485646"
      },
      "execution_count": null,
      "outputs": [
        {
          "output_type": "stream",
          "name": "stdout",
          "text": [
            "<class 'pandas.core.frame.DataFrame'>\n",
            "RangeIndex: 864863 entries, 0 to 864862\n",
            "Data columns (total 24 columns):\n",
            " #   Column      Non-Null Count   Dtype  \n",
            "---  ------      --------------   -----  \n",
            " 0   Cst_Cnt     864863 non-null  int64  \n",
            " 1   Btl_Cnt     864863 non-null  int64  \n",
            " 2   Sta_ID      864863 non-null  object \n",
            " 3   Depth_ID    864863 non-null  object \n",
            " 4   Depthm      864863 non-null  int64  \n",
            " 5   T_degC      864863 non-null  float64\n",
            " 6   Salnty      864863 non-null  float64\n",
            " 7   STheta      812174 non-null  float64\n",
            " 8   RecInd      864863 non-null  int64  \n",
            " 9   T_prec      853900 non-null  float64\n",
            " 10  S_prec      817509 non-null  float64\n",
            " 11  NH3q        808299 non-null  float64\n",
            " 12  C14A1q      848605 non-null  float64\n",
            " 13  C14A2q      848623 non-null  float64\n",
            " 14  DarkAq      840440 non-null  float64\n",
            " 15  MeanAq      840439 non-null  float64\n",
            " 16  R_Depth     864863 non-null  float64\n",
            " 17  R_TEMP      853900 non-null  float64\n",
            " 18  R_POTEMP    818816 non-null  float64\n",
            " 19  R_SALINITY  817509 non-null  float64\n",
            " 20  R_SIGMA     812007 non-null  float64\n",
            " 21  R_SVA       812092 non-null  float64\n",
            " 22  R_DYNHT     818206 non-null  float64\n",
            " 23  R_PRES      864863 non-null  int64  \n",
            "dtypes: float64(17), int64(5), object(2)\n",
            "memory usage: 158.4+ MB\n"
          ]
        }
      ]
    },
    {
      "cell_type": "code",
      "source": [
        "df2=pd.DataFrame()\n",
        "df2[\"T_degC\"]=df[\"T_degC\"]\n",
        "df2[\"Salnty\"]=df[\"Salnty\"]\n",
        "X=pd.DataFrame()\n",
        "X[\"T_degC\"]=df[\"T_degC\"]\n",
        "y=pd.DataFrame()\n",
        "y[\"Salnty\"]=df[\"Salnty\"]\n",
        "print(X.info(),y.info())"
      ],
      "metadata": {
        "colab": {
          "base_uri": "https://localhost:8080/"
        },
        "id": "_i2rkKtm1UEL",
        "outputId": "05ff9409-46f2-490b-e99b-5d4c3f262fd0"
      },
      "execution_count": null,
      "outputs": [
        {
          "output_type": "stream",
          "name": "stdout",
          "text": [
            "<class 'pandas.core.frame.DataFrame'>\n",
            "RangeIndex: 864863 entries, 0 to 864862\n",
            "Data columns (total 1 columns):\n",
            " #   Column  Non-Null Count   Dtype  \n",
            "---  ------  --------------   -----  \n",
            " 0   T_degC  864863 non-null  float64\n",
            "dtypes: float64(1)\n",
            "memory usage: 6.6 MB\n",
            "<class 'pandas.core.frame.DataFrame'>\n",
            "RangeIndex: 864863 entries, 0 to 864862\n",
            "Data columns (total 1 columns):\n",
            " #   Column  Non-Null Count   Dtype  \n",
            "---  ------  --------------   -----  \n",
            " 0   Salnty  864863 non-null  float64\n",
            "dtypes: float64(1)\n",
            "memory usage: 6.6 MB\n",
            "None None\n"
          ]
        }
      ]
    },
    {
      "cell_type": "code",
      "source": [
        "X_train,X_test,y_train,y_test=train_test_split(X,y,test_size=0.3,random_state=100)"
      ],
      "metadata": {
        "id": "iKfisd-YSK6e"
      },
      "execution_count": null,
      "outputs": []
    },
    {
      "cell_type": "code",
      "source": [
        "print(X_train.shape)\n",
        "print(y_train.shape)\n",
        "print(X_test.shape)\n",
        "print(y_test.shape)"
      ],
      "metadata": {
        "colab": {
          "base_uri": "https://localhost:8080/"
        },
        "id": "FX-cylnUACE-",
        "outputId": "1f5f0cac-7665-4c28-f66e-27deb6e68861"
      },
      "execution_count": null,
      "outputs": [
        {
          "output_type": "stream",
          "name": "stdout",
          "text": [
            "(605404, 1)\n",
            "(605404, 1)\n",
            "(259459, 1)\n",
            "(259459, 1)\n"
          ]
        }
      ]
    },
    {
      "cell_type": "code",
      "source": [
        "linReg=LinearRegression()"
      ],
      "metadata": {
        "id": "bhyDnTYIn9pH"
      },
      "execution_count": null,
      "outputs": []
    },
    {
      "cell_type": "code",
      "source": [
        "linReg.fit(X_train,y_train)"
      ],
      "metadata": {
        "colab": {
          "base_uri": "https://localhost:8080/"
        },
        "id": "yE1C46JtoZaO",
        "outputId": "f9846589-0554-4664-c201-bf65f533d04d"
      },
      "execution_count": null,
      "outputs": [
        {
          "output_type": "execute_result",
          "data": {
            "text/plain": [
              "LinearRegression()"
            ]
          },
          "metadata": {},
          "execution_count": 67
        }
      ]
    },
    {
      "cell_type": "code",
      "source": [
        "linPred=linReg.predict(X_test)"
      ],
      "metadata": {
        "id": "vmaXsyEWobbv"
      },
      "execution_count": null,
      "outputs": []
    },
    {
      "cell_type": "code",
      "source": [
        "plt.figure(figsize=(10,7))\n",
        "plt.title(\"Actual vs. predicted Salinity\",fontsize=25)\n",
        "plt.xlabel(\"Actual Salinity\",fontsize=18)\n",
        "plt.ylabel(\"Predicted Salinity\", fontsize=18)\n",
        "plt.scatter(x=y_test,y=linPred)\n",
        "plt.plot(X_test, linPred,color='k') "
      ],
      "metadata": {
        "colab": {
          "base_uri": "https://localhost:8080/",
          "height": 492
        },
        "id": "6aQXAByyolVO",
        "outputId": "fc2646c9-5ce1-46f2-8740-6128a862dba8"
      },
      "execution_count": null,
      "outputs": [
        {
          "output_type": "execute_result",
          "data": {
            "text/plain": [
              "[<matplotlib.lines.Line2D at 0x7f228437c190>]"
            ]
          },
          "metadata": {},
          "execution_count": 69
        },
        {
          "output_type": "display_data",
          "data": {
            "text/plain": [
              "<Figure size 720x504 with 1 Axes>"
            ],
            "image/png": "[encoded data removed]"
          },
          "metadata": {
            "needs_background": "light"
          }
        }
      ]
    },
    {
      "cell_type": "code",
      "source": [
        "sns.regplot(x=linPred,y=y_test,scatter_kws={'color': 'black'}, line_kws={'color': 'red'})"
      ],
      "metadata": {
        "colab": {
          "base_uri": "https://localhost:8080/",
          "height": 282
        },
        "id": "JrxVekJS1HDD",
        "outputId": "dd1e8d75-afdc-4b23-8c05-c4bbdde8be10"
      },
      "execution_count": null,
      "outputs": [
        {
          "output_type": "execute_result",
          "data": {
            "text/plain": [
              "<matplotlib.axes._subplots.AxesSubplot at 0x7f227d62aa50>"
            ]
          },
          "metadata": {},
          "execution_count": 70
        },
        {
          "output_type": "display_data",
          "data": {
            "text/plain": [
              "<Figure size 432x288 with 1 Axes>"
            ],
            "image/png": "[encoded data removed]"
          },
          "metadata": {
            "needs_background": "light"
          }
        }
      ]
    },
    {
      "cell_type": "code",
      "source": [
        "print(\"PREDICTIONS\",linPred)\n",
        "print(\"R2 Score\", metrics.r2_score(y_test,linPred))\n",
        "print(\"MAE Score\", metrics.mean_absolute_error(y_test,linPred))\n",
        "print(\"TEST ACC\",linReg.score(X_test,y_test))\n",
        "print(\"TRAIN ACC\",linReg.score(X_train,y_train))"
      ],
      "metadata": {
        "colab": {
          "base_uri": "https://localhost:8080/"
        },
        "id": "aSORVk-9pDHI",
        "outputId": "d658cc63-a375-401e-8b1e-aa781c3ea2e9"
      },
      "execution_count": null,
      "outputs": [
        {
          "output_type": "stream",
          "name": "stdout",
          "text": [
            "PREDICTIONS [[-0.31530925]\n",
            " [-0.03956317]\n",
            " [ 0.38875776]\n",
            " ...\n",
            " [ 0.38065439]\n",
            " [ 0.02294853]\n",
            " [ 0.62838596]]\n",
            "R2 Score 0.2434826859467749\n",
            "MAE Score 0.6172765280639664\n",
            "TEST ACC 0.2434826859467749\n",
            "TRAIN ACC 0.23859719724411854\n"
          ]
        }
      ]
    },
    {
      "cell_type": "code",
      "source": [
        "df2.corr()"
      ],
      "metadata": {
        "colab": {
          "base_uri": "https://localhost:8080/",
          "height": 112
        },
        "id": "PK0UahKy7xyT",
        "outputId": "8227ef27-c588-4582-d385-9842ff776943"
      },
      "execution_count": null,
      "outputs": [
        {
          "output_type": "execute_result",
          "data": {
            "text/plain": [
              "          T_degC    Salnty\n",
              "T_degC  1.000000 -0.489967\n",
              "Salnty -0.489967  1.000000"
            ],
            "text/html": [
              "\n",
              "  <div id=\"df-79f081a4-991b-42e0-aad9-cda26ba1b850\">\n",
              "    <div class=\"colab-df-container\">\n",
              "      <div>\n",
              "<style scoped>\n",
              "    .dataframe tbody tr th:only-of-type {\n",
              "        vertical-align: middle;\n",
              "    }\n",
              "\n",
              "    .dataframe tbody tr th {\n",
              "        vertical-align: top;\n",
              "    }\n",
              "\n",
              "    .dataframe thead th {\n",
              "        text-align: right;\n",
              "    }\n",
              "</style>\n",
              "<table border=\"1\" class=\"dataframe\">\n",
              "  <thead>\n",
              "    <tr style=\"text-align: right;\">\n",
              "      <th></th>\n",
              "      <th>T_degC</th>\n",
              "      <th>Salnty</th>\n",
              "    </tr>\n",
              "  </thead>\n",
              "  <tbody>\n",
              "    <tr>\n",
              "      <th>T_degC</th>\n",
              "      <td>1.000000</td>\n",
              "      <td>-0.489967</td>\n",
              "    </tr>\n",
              "    <tr>\n",
              "      <th>Salnty</th>\n",
              "      <td>-0.489967</td>\n",
              "      <td>1.000000</td>\n",
              "    </tr>\n",
              "  </tbody>\n",
              "</table>\n",
              "</div>\n",
              "      <button class=\"colab-df-convert\" onclick=\"convertToInteractive('df-79f081a4-991b-42e0-aad9-cda26ba1b850')\"\n",
              "              title=\"Convert this dataframe to an interactive table.\"\n",
              "              style=\"display:none;\">\n",
              "        \n",
              "  <svg xmlns=\"http://www.w3.org/2000/svg\" height=\"24px\"viewBox=\"0 0 24 24\"\n",
              "       width=\"24px\">\n",
              "    <path d=\"M0 0h24v24H0V0z\" fill=\"none\"/>\n",
              "    <path d=\"M18.56 5.44l.94 2.06.94-2.06 2.06-.94-2.06-.94-.94-2.06-.94 2.06-2.06.94zm-11 1L8.5 8.5l.94-2.06 2.06-.94-2.06-.94L8.5 2.5l-.94 2.06-2.06.94zm10 10l.94 2.06.94-2.06 2.06-.94-2.06-.94-.94-2.06-.94 2.06-2.06.94z\"/><path d=\"M17.41 7.96l-1.37-1.37c-.4-.4-.92-.59-1.43-.59-.52 0-1.04.2-1.43.59L10.3 9.45l-7.72 7.72c-.78.78-.78 2.05 0 2.83L4 21.41c.39.39.9.59 1.41.59.51 0 1.02-.2 1.41-.59l7.78-7.78 2.81-2.81c.8-.78.8-2.07 0-2.86zM5.41 20L4 18.59l7.72-7.72 1.47 1.35L5.41 20z\"/>\n",
              "  </svg>\n",
              "      </button>\n",
              "      \n",
              "  <style>\n",
              "    .colab-df-container {\n",
              "      display:flex;\n",
              "      flex-wrap:wrap;\n",
              "      gap: 12px;\n",
              "    }\n",
              "\n",
              "    .colab-df-convert {\n",
              "      background-color: #E8F0FE;\n",
              "      border: none;\n",
              "      border-radius: 50%;\n",
              "      cursor: pointer;\n",
              "      display: none;\n",
              "      fill: #1967D2;\n",
              "      height: 32px;\n",
              "      padding: 0 0 0 0;\n",
              "      width: 32px;\n",
              "    }\n",
              "\n",
              "    .colab-df-convert:hover {\n",
              "      background-color: #E2EBFA;\n",
              "      box-shadow: 0px 1px 2px rgba(60, 64, 67, 0.3), 0px 1px 3px 1px rgba(60, 64, 67, 0.15);\n",
              "      fill: #174EA6;\n",
              "    }\n",
              "\n",
              "    [theme=dark] .colab-df-convert {\n",
              "      background-color: #3B4455;\n",
              "      fill: #D2E3FC;\n",
              "    }\n",
              "\n",
              "    [theme=dark] .colab-df-convert:hover {\n",
              "      background-color: #434B5C;\n",
              "      box-shadow: 0px 1px 3px 1px rgba(0, 0, 0, 0.15);\n",
              "      filter: drop-shadow(0px 1px 2px rgba(0, 0, 0, 0.3));\n",
              "      fill: #FFFFFF;\n",
              "    }\n",
              "  </style>\n",
              "\n",
              "      <script>\n",
              "        const buttonEl =\n",
              "          document.querySelector('#df-79f081a4-991b-42e0-aad9-cda26ba1b850 button.colab-df-convert');\n",
              "        buttonEl.style.display =\n",
              "          google.colab.kernel.accessAllowed ? 'block' : 'none';\n",
              "\n",
              "        async function convertToInteractive(key) {\n",
              "          const element = document.querySelector('#df-79f081a4-991b-42e0-aad9-cda26ba1b850');\n",
              "          const dataTable =\n",
              "            await google.colab.kernel.invokeFunction('convertToInteractive',\n",
              "                                                     [key], {});\n",
              "          if (!dataTable) return;\n",
              "\n",
              "          const docLinkHtml = 'Like what you see? Visit the ' +\n",
              "            '<a target=\"_blank\" href=https://colab.research.google.com/notebooks/data_table.ipynb>data table notebook</a>'\n",
              "            + ' to learn more about interactive tables.';\n",
              "          element.innerHTML = '';\n",
              "          dataTable['output_type'] = 'display_data';\n",
              "          await google.colab.output.renderOutput(dataTable, element);\n",
              "          const docLink = document.createElement('div');\n",
              "          docLink.innerHTML = docLinkHtml;\n",
              "          element.appendChild(docLink);\n",
              "        }\n",
              "      </script>\n",
              "    </div>\n",
              "  </div>\n",
              "  "
            ]
          },
          "metadata": {},
          "execution_count": 72
        }
      ]
    },
    {
      "cell_type": "code",
      "source": [
        "y_pred_classes = np.zeros_like(linPred)\n",
        "y_pred_classes[linPred > 0] = 1\n",
        "y_test_classes = np.zeros_like(linPred)\n",
        "y_test_classes[y_test > 0] = 1"
      ],
      "metadata": {
        "id": "5JvSmzQ1RAsN"
      },
      "execution_count": null,
      "outputs": []
    },
    {
      "cell_type": "code",
      "source": [
        "confusion_matrix = metrics.confusion_matrix(y_test_classes, y_pred_classes)\n",
        "\n",
        "cm_display = metrics.ConfusionMatrixDisplay(confusion_matrix = confusion_matrix, display_labels = [False, True])\n",
        "\n",
        "cm_display.plot()\n",
        "plt.show()"
      ],
      "metadata": {
        "colab": {
          "base_uri": "https://localhost:8080/",
          "height": 279
        },
        "id": "gnqQ7VIvRq8K",
        "outputId": "f9dbe7a2-5495-41f8-c5e8-b6183e9ceabe"
      },
      "execution_count": null,
      "outputs": [
        {
          "output_type": "display_data",
          "data": {
            "text/plain": [
              "<Figure size 432x288 with 2 Axes>"
            ],
            "image/png": "[encoded data removed]"
          },
          "metadata": {
            "needs_background": "light"
          }
        }
      ]
    },
    {
      "cell_type": "code",
      "source": [
        "print(\"R2 Score\", metrics.r2_score(y_test_classes, y_pred_classes))\n"
      ],
      "metadata": {
        "colab": {
          "base_uri": "https://localhost:8080/"
        },
        "id": "bAUSFyA4S1pH",
        "outputId": "02f2a14a-fdd8-4c6c-e0e3-8056543e51da"
      },
      "execution_count": null,
      "outputs": [
        {
          "output_type": "stream",
          "name": "stdout",
          "text": [
            "R2 Score 0.15612596316826943\n"
          ]
        }
      ]
    },
    {
      "cell_type": "markdown",
      "source": [
        "#LOGISTIC REGRESSION"
      ],
      "metadata": {
        "id": "kMmnS1zVRBw-"
      }
    },
    {
      "cell_type": "code",
      "source": [
        "logDF=pd.read_csv(\"/content/gdrive/MyDrive/Antariksh/Bank Customer Churn Prediction.csv\")\n",
        "logDF"
      ],
      "metadata": {
        "colab": {
          "base_uri": "https://localhost:8080/",
          "height": 424
        },
        "id": "LEzN5oH38OjA",
        "outputId": "a3efa042-6df8-4cfc-c4d6-67cea0e18532"
      },
      "execution_count": null,
      "outputs": [
        {
          "output_type": "execute_result",
          "data": {
            "text/plain": [
              "      customer_id  credit_score  country  gender  age  tenure    balance  \\\n",
              "0        15634602           619   France  Female   42       2       0.00   \n",
              "1        15647311           608    Spain  Female   41       1   83807.86   \n",
              "2        15619304           502   France  Female   42       8  159660.80   \n",
              "3        15701354           699   France  Female   39       1       0.00   \n",
              "4        15737888           850    Spain  Female   43       2  125510.82   \n",
              "...           ...           ...      ...     ...  ...     ...        ...   \n",
              "9995     15606229           771   France    Male   39       5       0.00   \n",
              "9996     15569892           516   France    Male   35      10   57369.61   \n",
              "9997     15584532           709   France  Female   36       7       0.00   \n",
              "9998     15682355           772  Germany    Male   42       3   75075.31   \n",
              "9999     15628319           792   France  Female   28       4  130142.79   \n",
              "\n",
              "      products_number  credit_card  active_member  estimated_salary  churn  \n",
              "0                   1            1              1         101348.88      1  \n",
              "1                   1            0              1         112542.58      0  \n",
              "2                   3            1              0         113931.57      1  \n",
              "3                   2            0              0          93826.63      0  \n",
              "4                   1            1              1          79084.10      0  \n",
              "...               ...          ...            ...               ...    ...  \n",
              "9995                2            1              0          96270.64      0  \n",
              "9996                1            1              1         101699.77      0  \n",
              "9997                1            0              1          42085.58      1  \n",
              "9998                2            1              0          92888.52      1  \n",
              "9999                1            1              0          38190.78      0  \n",
              "\n",
              "[10000 rows x 12 columns]"
            ],
            "text/html": [
              "\n",
              "  <div id=\"df-c8fb8de7-7294-407a-ab14-1d64134c5cb1\">\n",
              "    <div class=\"colab-df-container\">\n",
              "      <div>\n",
              "<style scoped>\n",
              "    .dataframe tbody tr th:only-of-type {\n",
              "        vertical-align: middle;\n",
              "    }\n",
              "\n",
              "    .dataframe tbody tr th {\n",
              "        vertical-align: top;\n",
              "    }\n",
              "\n",
              "    .dataframe thead th {\n",
              "        text-align: right;\n",
              "    }\n",
              "</style>\n",
              "<table border=\"1\" class=\"dataframe\">\n",
              "  <thead>\n",
              "    <tr style=\"text-align: right;\">\n",
              "      <th></th>\n",
              "      <th>customer_id</th>\n",
              "      <th>credit_score</th>\n",
              "      <th>country</th>\n",
              "      <th>gender</th>\n",
              "      <th>age</th>\n",
              "      <th>tenure</th>\n",
              "      <th>balance</th>\n",
              "      <th>products_number</th>\n",
              "      <th>credit_card</th>\n",
              "      <th>active_member</th>\n",
              "      <th>estimated_salary</th>\n",
              "      <th>churn</th>\n",
              "    </tr>\n",
              "  </thead>\n",
              "  <tbody>\n",
              "    <tr>\n",
              "      <th>0</th>\n",
              "      <td>15634602</td>\n",
              "      <td>619</td>\n",
              "      <td>France</td>\n",
              "      <td>Female</td>\n",
              "      <td>42</td>\n",
              "      <td>2</td>\n",
              "      <td>0.00</td>\n",
              "      <td>1</td>\n",
              "      <td>1</td>\n",
              "      <td>1</td>\n",
              "      <td>101348.88</td>\n",
              "      <td>1</td>\n",
              "    </tr>\n",
              "    <tr>\n",
              "      <th>1</th>\n",
              "      <td>15647311</td>\n",
              "      <td>608</td>\n",
              "      <td>Spain</td>\n",
              "      <td>Female</td>\n",
              "      <td>41</td>\n",
              "      <td>1</td>\n",
              "      <td>83807.86</td>\n",
              "      <td>1</td>\n",
              "      <td>0</td>\n",
              "      <td>1</td>\n",
              "      <td>112542.58</td>\n",
              "      <td>0</td>\n",
              "    </tr>\n",
              "    <tr>\n",
              "      <th>2</th>\n",
              "      <td>15619304</td>\n",
              "      <td>502</td>\n",
              "      <td>France</td>\n",
              "      <td>Female</td>\n",
              "      <td>42</td>\n",
              "      <td>8</td>\n",
              "      <td>159660.80</td>\n",
              "      <td>3</td>\n",
              "      <td>1</td>\n",
              "      <td>0</td>\n",
              "      <td>113931.57</td>\n",
              "      <td>1</td>\n",
              "    </tr>\n",
              "    <tr>\n",
              "      <th>3</th>\n",
              "      <td>15701354</td>\n",
              "      <td>699</td>\n",
              "      <td>France</td>\n",
              "      <td>Female</td>\n",
              "      <td>39</td>\n",
              "      <td>1</td>\n",
              "      <td>0.00</td>\n",
              "      <td>2</td>\n",
              "      <td>0</td>\n",
              "      <td>0</td>\n",
              "      <td>93826.63</td>\n",
              "      <td>0</td>\n",
              "    </tr>\n",
              "    <tr>\n",
              "      <th>4</th>\n",
              "      <td>15737888</td>\n",
              "      <td>850</td>\n",
              "      <td>Spain</td>\n",
              "      <td>Female</td>\n",
              "      <td>43</td>\n",
              "      <td>2</td>\n",
              "      <td>125510.82</td>\n",
              "      <td>1</td>\n",
              "      <td>1</td>\n",
              "      <td>1</td>\n",
              "      <td>79084.10</td>\n",
              "      <td>0</td>\n",
              "    </tr>\n",
              "    <tr>\n",
              "      <th>...</th>\n",
              "      <td>...</td>\n",
              "      <td>...</td>\n",
              "      <td>...</td>\n",
              "      <td>...</td>\n",
              "      <td>...</td>\n",
              "      <td>...</td>\n",
              "      <td>...</td>\n",
              "      <td>...</td>\n",
              "      <td>...</td>\n",
              "      <td>...</td>\n",
              "      <td>...</td>\n",
              "      <td>...</td>\n",
              "    </tr>\n",
              "    <tr>\n",
              "      <th>9995</th>\n",
              "      <td>15606229</td>\n",
              "      <td>771</td>\n",
              "      <td>France</td>\n",
              "      <td>Male</td>\n",
              "      <td>39</td>\n",
              "      <td>5</td>\n",
              "      <td>0.00</td>\n",
              "      <td>2</td>\n",
              "      <td>1</td>\n",
              "      <td>0</td>\n",
              "      <td>96270.64</td>\n",
              "      <td>0</td>\n",
              "    </tr>\n",
              "    <tr>\n",
              "      <th>9996</th>\n",
              "      <td>15569892</td>\n",
              "      <td>516</td>\n",
              "      <td>France</td>\n",
              "      <td>Male</td>\n",
              "      <td>35</td>\n",
              "      <td>10</td>\n",
              "      <td>57369.61</td>\n",
              "      <td>1</td>\n",
              "      <td>1</td>\n",
              "      <td>1</td>\n",
              "      <td>101699.77</td>\n",
              "      <td>0</td>\n",
              "    </tr>\n",
              "    <tr>\n",
              "      <th>9997</th>\n",
              "      <td>15584532</td>\n",
              "      <td>709</td>\n",
              "      <td>France</td>\n",
              "      <td>Female</td>\n",
              "      <td>36</td>\n",
              "      <td>7</td>\n",
              "      <td>0.00</td>\n",
              "      <td>1</td>\n",
              "      <td>0</td>\n",
              "      <td>1</td>\n",
              "      <td>42085.58</td>\n",
              "      <td>1</td>\n",
              "    </tr>\n",
              "    <tr>\n",
              "      <th>9998</th>\n",
              "      <td>15682355</td>\n",
              "      <td>772</td>\n",
              "      <td>Germany</td>\n",
              "      <td>Male</td>\n",
              "      <td>42</td>\n",
              "      <td>3</td>\n",
              "      <td>75075.31</td>\n",
              "      <td>2</td>\n",
              "      <td>1</td>\n",
              "      <td>0</td>\n",
              "      <td>92888.52</td>\n",
              "      <td>1</td>\n",
              "    </tr>\n",
              "    <tr>\n",
              "      <th>9999</th>\n",
              "      <td>15628319</td>\n",
              "      <td>792</td>\n",
              "      <td>France</td>\n",
              "      <td>Female</td>\n",
              "      <td>28</td>\n",
              "      <td>4</td>\n",
              "      <td>130142.79</td>\n",
              "      <td>1</td>\n",
              "      <td>1</td>\n",
              "      <td>0</td>\n",
              "      <td>38190.78</td>\n",
              "      <td>0</td>\n",
              "    </tr>\n",
              "  </tbody>\n",
              "</table>\n",
              "<p>10000 rows × 12 columns</p>\n",
              "</div>\n",
              "      <button class=\"colab-df-convert\" onclick=\"convertToInteractive('df-c8fb8de7-7294-407a-ab14-1d64134c5cb1')\"\n",
              "              title=\"Convert this dataframe to an interactive table.\"\n",
              "              style=\"display:none;\">\n",
              "        \n",
              "  <svg xmlns=\"http://www.w3.org/2000/svg\" height=\"24px\"viewBox=\"0 0 24 24\"\n",
              "       width=\"24px\">\n",
              "    <path d=\"M0 0h24v24H0V0z\" fill=\"none\"/>\n",
              "    <path d=\"M18.56 5.44l.94 2.06.94-2.06 2.06-.94-2.06-.94-.94-2.06-.94 2.06-2.06.94zm-11 1L8.5 8.5l.94-2.06 2.06-.94-2.06-.94L8.5 2.5l-.94 2.06-2.06.94zm10 10l.94 2.06.94-2.06 2.06-.94-2.06-.94-.94-2.06-.94 2.06-2.06.94z\"/><path d=\"M17.41 7.96l-1.37-1.37c-.4-.4-.92-.59-1.43-.59-.52 0-1.04.2-1.43.59L10.3 9.45l-7.72 7.72c-.78.78-.78 2.05 0 2.83L4 21.41c.39.39.9.59 1.41.59.51 0 1.02-.2 1.41-.59l7.78-7.78 2.81-2.81c.8-.78.8-2.07 0-2.86zM5.41 20L4 18.59l7.72-7.72 1.47 1.35L5.41 20z\"/>\n",
              "  </svg>\n",
              "      </button>\n",
              "      \n",
              "  <style>\n",
              "    .colab-df-container {\n",
              "      display:flex;\n",
              "      flex-wrap:wrap;\n",
              "      gap: 12px;\n",
              "    }\n",
              "\n",
              "    .colab-df-convert {\n",
              "      background-color: #E8F0FE;\n",
              "      border: none;\n",
              "      border-radius: 50%;\n",
              "      cursor: pointer;\n",
              "      display: none;\n",
              "      fill: #1967D2;\n",
              "      height: 32px;\n",
              "      padding: 0 0 0 0;\n",
              "      width: 32px;\n",
              "    }\n",
              "\n",
              "    .colab-df-convert:hover {\n",
              "      background-color: #E2EBFA;\n",
              "      box-shadow: 0px 1px 2px rgba(60, 64, 67, 0.3), 0px 1px 3px 1px rgba(60, 64, 67, 0.15);\n",
              "      fill: #174EA6;\n",
              "    }\n",
              "\n",
              "    [theme=dark] .colab-df-convert {\n",
              "      background-color: #3B4455;\n",
              "      fill: #D2E3FC;\n",
              "    }\n",
              "\n",
              "    [theme=dark] .colab-df-convert:hover {\n",
              "      background-color: #434B5C;\n",
              "      box-shadow: 0px 1px 3px 1px rgba(0, 0, 0, 0.15);\n",
              "      filter: drop-shadow(0px 1px 2px rgba(0, 0, 0, 0.3));\n",
              "      fill: #FFFFFF;\n",
              "    }\n",
              "  </style>\n",
              "\n",
              "      <script>\n",
              "        const buttonEl =\n",
              "          document.querySelector('#df-c8fb8de7-7294-407a-ab14-1d64134c5cb1 button.colab-df-convert');\n",
              "        buttonEl.style.display =\n",
              "          google.colab.kernel.accessAllowed ? 'block' : 'none';\n",
              "\n",
              "        async function convertToInteractive(key) {\n",
              "          const element = document.querySelector('#df-c8fb8de7-7294-407a-ab14-1d64134c5cb1');\n",
              "          const dataTable =\n",
              "            await google.colab.kernel.invokeFunction('convertToInteractive',\n",
              "                                                     [key], {});\n",
              "          if (!dataTable) return;\n",
              "\n",
              "          const docLinkHtml = 'Like what you see? Visit the ' +\n",
              "            '<a target=\"_blank\" href=https://colab.research.google.com/notebooks/data_table.ipynb>data table notebook</a>'\n",
              "            + ' to learn more about interactive tables.';\n",
              "          element.innerHTML = '';\n",
              "          dataTable['output_type'] = 'display_data';\n",
              "          await google.colab.output.renderOutput(dataTable, element);\n",
              "          const docLink = document.createElement('div');\n",
              "          docLink.innerHTML = docLinkHtml;\n",
              "          element.appendChild(docLink);\n",
              "        }\n",
              "      </script>\n",
              "    </div>\n",
              "  </div>\n",
              "  "
            ]
          },
          "metadata": {},
          "execution_count": 76
        }
      ]
    },
    {
      "cell_type": "code",
      "source": [
        "logDF.info()"
      ],
      "metadata": {
        "colab": {
          "base_uri": "https://localhost:8080/"
        },
        "id": "4yIAA6JE8uYe",
        "outputId": "ecdb7588-0745-41ff-9b24-22f4f6e559cb"
      },
      "execution_count": null,
      "outputs": [
        {
          "output_type": "stream",
          "name": "stdout",
          "text": [
            "<class 'pandas.core.frame.DataFrame'>\n",
            "RangeIndex: 10000 entries, 0 to 9999\n",
            "Data columns (total 12 columns):\n",
            " #   Column            Non-Null Count  Dtype  \n",
            "---  ------            --------------  -----  \n",
            " 0   customer_id       10000 non-null  int64  \n",
            " 1   credit_score      10000 non-null  int64  \n",
            " 2   country           10000 non-null  object \n",
            " 3   gender            10000 non-null  object \n",
            " 4   age               10000 non-null  int64  \n",
            " 5   tenure            10000 non-null  int64  \n",
            " 6   balance           10000 non-null  float64\n",
            " 7   products_number   10000 non-null  int64  \n",
            " 8   credit_card       10000 non-null  int64  \n",
            " 9   active_member     10000 non-null  int64  \n",
            " 10  estimated_salary  10000 non-null  float64\n",
            " 11  churn             10000 non-null  int64  \n",
            "dtypes: float64(2), int64(8), object(2)\n",
            "memory usage: 937.6+ KB\n"
          ]
        }
      ]
    },
    {
      "cell_type": "code",
      "source": [
        "logDF.drop([\"customer_id\",\"gender\",\"country\"],axis=1,inplace=True)"
      ],
      "metadata": {
        "id": "BGp4w96l8-z9"
      },
      "execution_count": null,
      "outputs": []
    },
    {
      "cell_type": "code",
      "source": [
        "X=logDF.drop([\"churn\"],axis=1)\n",
        "y=pd.DataFrame(logDF[\"churn\"])\n",
        "# X=(X-X.mean())/X.std()\n",
        "X=(X-X.min())/(X.max()-X.min())\n",
        "X1=pd.read_csv('/content/final_train_dataset.xlsx')\n",
        "y1=pd.read_csv('/content/final_test_dataset - final_test_dataset.csv')"
      ],
      "metadata": {
        "id": "C6UDNZp0-0_J"
      },
      "execution_count": null,
      "outputs": []
    },
    {
      "cell_type": "code",
      "source": [
        "X_train,X_test,y_train,y_test=train_test_split(X,y,test_size=0.3,random_state=200)"
      ],
      "metadata": {
        "id": "VaSI25cb-uyi"
      },
      "execution_count": null,
      "outputs": []
    },
    {
      "cell_type": "code",
      "source": [
        "print(X_train.shape)\n",
        "print(y_train.shape)\n",
        "print(X_test.shape)\n",
        "print(y_test.shape)"
      ],
      "metadata": {
        "colab": {
          "base_uri": "https://localhost:8080/"
        },
        "id": "tfRuholp_Eqb",
        "outputId": "59645080-8174-42e9-90e0-9a7fed7b5e5c"
      },
      "execution_count": null,
      "outputs": [
        {
          "output_type": "stream",
          "name": "stdout",
          "text": [
            "(7000, 8)\n",
            "(7000, 1)\n",
            "(3000, 8)\n",
            "(3000, 1)\n"
          ]
        }
      ]
    },
    {
      "cell_type": "code",
      "source": [
        "logModel=LogisticRegression()\n",
        "logModel.fit(X_train,y_train)"
      ],
      "metadata": {
        "colab": {
          "base_uri": "https://localhost:8080/"
        },
        "id": "y2C8JYlx9c0H",
        "outputId": "cff93382-1f29-453d-abac-5cc111afd3f6"
      },
      "execution_count": null,
      "outputs": [
        {
          "output_type": "stream",
          "name": "stderr",
          "text": [
            "/usr/local/lib/python3.7/dist-packages/sklearn/utils/validation.py:993: DataConversionWarning: A column-vector y was passed when a 1d array was expected. Please change the shape of y to (n_samples, ), for example using ravel().\n",
            "  y = column_or_1d(y, warn=True)\n"
          ]
        },
        {
          "output_type": "execute_result",
          "data": {
            "text/plain": [
              "LogisticRegression()"
            ]
          },
          "metadata": {},
          "execution_count": 82
        }
      ]
    },
    {
      "cell_type": "code",
      "source": [
        "logPred=logModel.predict(X_test)"
      ],
      "metadata": {
        "id": "cbmFJeYY_WTG"
      },
      "execution_count": null,
      "outputs": []
    },
    {
      "cell_type": "code",
      "source": [
        "print('TEST ACC',logModel.score(X_test,y_test))\n",
        "print(\"TRAIN ACC\",logModel.score(X_train,y_train))\n",
        "print(\"MAE Score\", metrics.mean_absolute_error(y_test,logPred))"
      ],
      "metadata": {
        "colab": {
          "base_uri": "https://localhost:8080/"
        },
        "id": "D2p0nJ4d_b4G",
        "outputId": "d1a27342-4348-42ce-a851-bf2930e5bb9a"
      },
      "execution_count": null,
      "outputs": [
        {
          "output_type": "stream",
          "name": "stdout",
          "text": [
            "TEST ACC 0.8003333333333333\n",
            "TRAIN ACC 0.8095714285714286\n",
            "MAE Score 0.19966666666666666\n"
          ]
        }
      ]
    },
    {
      "cell_type": "code",
      "source": [
        "confusion_matrix = metrics.confusion_matrix(y_test, logPred)\n",
        "\n",
        "cm_display = metrics.ConfusionMatrixDisplay(confusion_matrix = confusion_matrix, display_labels = [False, True])\n",
        "\n",
        "cm_display.plot()\n",
        "plt.show()"
      ],
      "metadata": {
        "colab": {
          "base_uri": "https://localhost:8080/",
          "height": 279
        },
        "id": "F-F58-UL6i3Q",
        "outputId": "0baceafb-0326-4b22-e9e1-d83df6a2f5d7"
      },
      "execution_count": null,
      "outputs": [
        {
          "output_type": "display_data",
          "data": {
            "text/plain": [
              "<Figure size 432x288 with 2 Axes>"
            ],
            "image/png": "[encoded data removed]"
          },
          "metadata": {
            "needs_background": "light"
          }
        }
      ]
    },
    {
      "cell_type": "code",
      "source": [
        "logDF.corr()"
      ],
      "metadata": {
        "colab": {
          "base_uri": "https://localhost:8080/",
          "height": 332
        },
        "id": "enQ8PpN4AGXl",
        "outputId": "2df52525-c2f8-430b-ca4a-9bdd76dad570"
      },
      "execution_count": null,
      "outputs": [
        {
          "output_type": "execute_result",
          "data": {
            "text/plain": [
              "                  credit_score       age    tenure   balance  products_number  \\\n",
              "credit_score          1.000000 -0.003965  0.000842  0.006268         0.012238   \n",
              "age                  -0.003965  1.000000 -0.009997  0.028308        -0.030680   \n",
              "tenure                0.000842 -0.009997  1.000000 -0.012254         0.013444   \n",
              "balance               0.006268  0.028308 -0.012254  1.000000        -0.304180   \n",
              "products_number       0.012238 -0.030680  0.013444 -0.304180         1.000000   \n",
              "credit_card          -0.005458 -0.011721  0.022583 -0.014858         0.003183   \n",
              "active_member         0.025651  0.085472 -0.028362 -0.010084         0.009612   \n",
              "estimated_salary     -0.001384 -0.007201  0.007784  0.012797         0.014204   \n",
              "churn                -0.027094  0.285323 -0.014001  0.118533        -0.047820   \n",
              "\n",
              "                  credit_card  active_member  estimated_salary     churn  \n",
              "credit_score        -0.005458       0.025651         -0.001384 -0.027094  \n",
              "age                 -0.011721       0.085472         -0.007201  0.285323  \n",
              "tenure               0.022583      -0.028362          0.007784 -0.014001  \n",
              "balance             -0.014858      -0.010084          0.012797  0.118533  \n",
              "products_number      0.003183       0.009612          0.014204 -0.047820  \n",
              "credit_card          1.000000      -0.011866         -0.009933 -0.007138  \n",
              "active_member       -0.011866       1.000000         -0.011421 -0.156128  \n",
              "estimated_salary    -0.009933      -0.011421          1.000000  0.012097  \n",
              "churn               -0.007138      -0.156128          0.012097  1.000000  "
            ],
            "text/html": [
              "\n",
              "  <div id=\"df-a760e546-4ac1-4a56-aec6-4a8eadaaede6\">\n",
              "    <div class=\"colab-df-container\">\n",
              "      <div>\n",
              "<style scoped>\n",
              "    .dataframe tbody tr th:only-of-type {\n",
              "        vertical-align: middle;\n",
              "    }\n",
              "\n",
              "    .dataframe tbody tr th {\n",
              "        vertical-align: top;\n",
              "    }\n",
              "\n",
              "    .dataframe thead th {\n",
              "        text-align: right;\n",
              "    }\n",
              "</style>\n",
              "<table border=\"1\" class=\"dataframe\">\n",
              "  <thead>\n",
              "    <tr style=\"text-align: right;\">\n",
              "      <th></th>\n",
              "      <th>credit_score</th>\n",
              "      <th>age</th>\n",
              "      <th>tenure</th>\n",
              "      <th>balance</th>\n",
              "      <th>products_number</th>\n",
              "      <th>credit_card</th>\n",
              "      <th>active_member</th>\n",
              "      <th>estimated_salary</th>\n",
              "      <th>churn</th>\n",
              "    </tr>\n",
              "  </thead>\n",
              "  <tbody>\n",
              "    <tr>\n",
              "      <th>credit_score</th>\n",
              "      <td>1.000000</td>\n",
              "      <td>-0.003965</td>\n",
              "      <td>0.000842</td>\n",
              "      <td>0.006268</td>\n",
              "      <td>0.012238</td>\n",
              "      <td>-0.005458</td>\n",
              "      <td>0.025651</td>\n",
              "      <td>-0.001384</td>\n",
              "      <td>-0.027094</td>\n",
              "    </tr>\n",
              "    <tr>\n",
              "      <th>age</th>\n",
              "      <td>-0.003965</td>\n",
              "      <td>1.000000</td>\n",
              "      <td>-0.009997</td>\n",
              "      <td>0.028308</td>\n",
              "      <td>-0.030680</td>\n",
              "      <td>-0.011721</td>\n",
              "      <td>0.085472</td>\n",
              "      <td>-0.007201</td>\n",
              "      <td>0.285323</td>\n",
              "    </tr>\n",
              "    <tr>\n",
              "      <th>tenure</th>\n",
              "      <td>0.000842</td>\n",
              "      <td>-0.009997</td>\n",
              "      <td>1.000000</td>\n",
              "      <td>-0.012254</td>\n",
              "      <td>0.013444</td>\n",
              "      <td>0.022583</td>\n",
              "      <td>-0.028362</td>\n",
              "      <td>0.007784</td>\n",
              "      <td>-0.014001</td>\n",
              "    </tr>\n",
              "    <tr>\n",
              "      <th>balance</th>\n",
              "      <td>0.006268</td>\n",
              "      <td>0.028308</td>\n",
              "      <td>-0.012254</td>\n",
              "      <td>1.000000</td>\n",
              "      <td>-0.304180</td>\n",
              "      <td>-0.014858</td>\n",
              "      <td>-0.010084</td>\n",
              "      <td>0.012797</td>\n",
              "      <td>0.118533</td>\n",
              "    </tr>\n",
              "    <tr>\n",
              "      <th>products_number</th>\n",
              "      <td>0.012238</td>\n",
              "      <td>-0.030680</td>\n",
              "      <td>0.013444</td>\n",
              "      <td>-0.304180</td>\n",
              "      <td>1.000000</td>\n",
              "      <td>0.003183</td>\n",
              "      <td>0.009612</td>\n",
              "      <td>0.014204</td>\n",
              "      <td>-0.047820</td>\n",
              "    </tr>\n",
              "    <tr>\n",
              "      <th>credit_card</th>\n",
              "      <td>-0.005458</td>\n",
              "      <td>-0.011721</td>\n",
              "      <td>0.022583</td>\n",
              "      <td>-0.014858</td>\n",
              "      <td>0.003183</td>\n",
              "      <td>1.000000</td>\n",
              "      <td>-0.011866</td>\n",
              "      <td>-0.009933</td>\n",
              "      <td>-0.007138</td>\n",
              "    </tr>\n",
              "    <tr>\n",
              "      <th>active_member</th>\n",
              "      <td>0.025651</td>\n",
              "      <td>0.085472</td>\n",
              "      <td>-0.028362</td>\n",
              "      <td>-0.010084</td>\n",
              "      <td>0.009612</td>\n",
              "      <td>-0.011866</td>\n",
              "      <td>1.000000</td>\n",
              "      <td>-0.011421</td>\n",
              "      <td>-0.156128</td>\n",
              "    </tr>\n",
              "    <tr>\n",
              "      <th>estimated_salary</th>\n",
              "      <td>-0.001384</td>\n",
              "      <td>-0.007201</td>\n",
              "      <td>0.007784</td>\n",
              "      <td>0.012797</td>\n",
              "      <td>0.014204</td>\n",
              "      <td>-0.009933</td>\n",
              "      <td>-0.011421</td>\n",
              "      <td>1.000000</td>\n",
              "      <td>0.012097</td>\n",
              "    </tr>\n",
              "    <tr>\n",
              "      <th>churn</th>\n",
              "      <td>-0.027094</td>\n",
              "      <td>0.285323</td>\n",
              "      <td>-0.014001</td>\n",
              "      <td>0.118533</td>\n",
              "      <td>-0.047820</td>\n",
              "      <td>-0.007138</td>\n",
              "      <td>-0.156128</td>\n",
              "      <td>0.012097</td>\n",
              "      <td>1.000000</td>\n",
              "    </tr>\n",
              "  </tbody>\n",
              "</table>\n",
              "</div>\n",
              "      <button class=\"colab-df-convert\" onclick=\"convertToInteractive('df-a760e546-4ac1-4a56-aec6-4a8eadaaede6')\"\n",
              "              title=\"Convert this dataframe to an interactive table.\"\n",
              "              style=\"display:none;\">\n",
              "        \n",
              "  <svg xmlns=\"http://www.w3.org/2000/svg\" height=\"24px\"viewBox=\"0 0 24 24\"\n",
              "       width=\"24px\">\n",
              "    <path d=\"M0 0h24v24H0V0z\" fill=\"none\"/>\n",
              "    <path d=\"M18.56 5.44l.94 2.06.94-2.06 2.06-.94-2.06-.94-.94-2.06-.94 2.06-2.06.94zm-11 1L8.5 8.5l.94-2.06 2.06-.94-2.06-.94L8.5 2.5l-.94 2.06-2.06.94zm10 10l.94 2.06.94-2.06 2.06-.94-2.06-.94-.94-2.06-.94 2.06-2.06.94z\"/><path d=\"M17.41 7.96l-1.37-1.37c-.4-.4-.92-.59-1.43-.59-.52 0-1.04.2-1.43.59L10.3 9.45l-7.72 7.72c-.78.78-.78 2.05 0 2.83L4 21.41c.39.39.9.59 1.41.59.51 0 1.02-.2 1.41-.59l7.78-7.78 2.81-2.81c.8-.78.8-2.07 0-2.86zM5.41 20L4 18.59l7.72-7.72 1.47 1.35L5.41 20z\"/>\n",
              "  </svg>\n",
              "      </button>\n",
              "      \n",
              "  <style>\n",
              "    .colab-df-container {\n",
              "      display:flex;\n",
              "      flex-wrap:wrap;\n",
              "      gap: 12px;\n",
              "    }\n",
              "\n",
              "    .colab-df-convert {\n",
              "      background-color: #E8F0FE;\n",
              "      border: none;\n",
              "      border-radius: 50%;\n",
              "      cursor: pointer;\n",
              "      display: none;\n",
              "      fill: #1967D2;\n",
              "      height: 32px;\n",
              "      padding: 0 0 0 0;\n",
              "      width: 32px;\n",
              "    }\n",
              "\n",
              "    .colab-df-convert:hover {\n",
              "      background-color: #E2EBFA;\n",
              "      box-shadow: 0px 1px 2px rgba(60, 64, 67, 0.3), 0px 1px 3px 1px rgba(60, 64, 67, 0.15);\n",
              "      fill: #174EA6;\n",
              "    }\n",
              "\n",
              "    [theme=dark] .colab-df-convert {\n",
              "      background-color: #3B4455;\n",
              "      fill: #D2E3FC;\n",
              "    }\n",
              "\n",
              "    [theme=dark] .colab-df-convert:hover {\n",
              "      background-color: #434B5C;\n",
              "      box-shadow: 0px 1px 3px 1px rgba(0, 0, 0, 0.15);\n",
              "      filter: drop-shadow(0px 1px 2px rgba(0, 0, 0, 0.3));\n",
              "      fill: #FFFFFF;\n",
              "    }\n",
              "  </style>\n",
              "\n",
              "      <script>\n",
              "        const buttonEl =\n",
              "          document.querySelector('#df-a760e546-4ac1-4a56-aec6-4a8eadaaede6 button.colab-df-convert');\n",
              "        buttonEl.style.display =\n",
              "          google.colab.kernel.accessAllowed ? 'block' : 'none';\n",
              "\n",
              "        async function convertToInteractive(key) {\n",
              "          const element = document.querySelector('#df-a760e546-4ac1-4a56-aec6-4a8eadaaede6');\n",
              "          const dataTable =\n",
              "            await google.colab.kernel.invokeFunction('convertToInteractive',\n",
              "                                                     [key], {});\n",
              "          if (!dataTable) return;\n",
              "\n",
              "          const docLinkHtml = 'Like what you see? Visit the ' +\n",
              "            '<a target=\"_blank\" href=https://colab.research.google.com/notebooks/data_table.ipynb>data table notebook</a>'\n",
              "            + ' to learn more about interactive tables.';\n",
              "          element.innerHTML = '';\n",
              "          dataTable['output_type'] = 'display_data';\n",
              "          await google.colab.output.renderOutput(dataTable, element);\n",
              "          const docLink = document.createElement('div');\n",
              "          docLink.innerHTML = docLinkHtml;\n",
              "          element.appendChild(docLink);\n",
              "        }\n",
              "      </script>\n",
              "    </div>\n",
              "  </div>\n",
              "  "
            ]
          },
          "metadata": {},
          "execution_count": 86
        }
      ]
    },
    {
      "cell_type": "code",
      "source": [
        "sns.regplot(x=logPred,y=y_test,logistic=True,ci=None,scatter_kws={'color': 'black'}, line_kws={'color': 'red'})"
      ],
      "metadata": {
        "colab": {
          "base_uri": "https://localhost:8080/",
          "height": 282
        },
        "id": "TLV0Gmgjz7uo",
        "outputId": "9ea12a26-84b6-4839-ccbf-d7bd38eea1bf"
      },
      "execution_count": null,
      "outputs": [
        {
          "output_type": "execute_result",
          "data": {
            "text/plain": [
              "<matplotlib.axes._subplots.AxesSubplot at 0x7f227b122f50>"
            ]
          },
          "metadata": {},
          "execution_count": 87
        },
        {
          "output_type": "display_data",
          "data": {
            "text/plain": [
              "<Figure size 432x288 with 1 Axes>"
            ],
            "image/png": "[encoded data removed]"
          },
          "metadata": {
            "needs_background": "light"
          }
        }
      ]
    }
  ]
}